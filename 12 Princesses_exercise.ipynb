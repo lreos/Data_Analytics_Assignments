{
 "cells": [
  {
   "cell_type": "code",
   "execution_count": 33,
   "metadata": {
    "collapsed": true
   },
   "outputs": [],
   "source": [
    "import nltk\n",
    "import pandas as pd\n",
    "from nltk.tokenize import word_tokenize\n",
    "from string import punctuation\n",
    "from nltk.corpus import stopwords\n",
    "from nltk.probability import FreqDist"
   ]
  },
  {
   "cell_type": "code",
   "execution_count": 12,
   "metadata": {
    "collapsed": true
   },
   "outputs": [],
   "source": [
    "princess_txt = '''THE TWELVE DANCING PRINCESSES\n",
    "\n",
    "There was a king who had twelve beautiful daughters. They slept in\n",
    "twelve beds all in one room; and when they went to bed, the doors were\n",
    "shut and locked up; but every morning their shoes were found to be quite\n",
    "worn through as if they had been danced in all night; and yet nobody\n",
    "could find out how it happened, or where they had been.\n",
    "\n",
    "Then the king made it known to all the land, that if any person could\n",
    "discover the secret, and find out where it was that the princesses\n",
    "danced in the night, he should have the one he liked best for his\n",
    "wife, and should be king after his death; but whoever tried and did not\n",
    "succeed, after three days and nights, should be put to death.\n",
    "\n",
    "A king’s son soon came. He was well entertained, and in the evening was\n",
    "taken to the chamber next to the one where the princesses lay in their\n",
    "twelve beds. There he was to sit and watch where they went to dance;\n",
    "and, in order that nothing might pass without his hearing it, the door\n",
    "of his chamber was left open. But the king’s son soon fell asleep; and\n",
    "when he awoke in the morning he found that the princesses had all been\n",
    "dancing, for the soles of their shoes were full of holes. The same thing\n",
    "happened the second and third night: so the king ordered his head to be\n",
    "cut off. After him came several others; but they had all the same luck,\n",
    "and all lost their lives in the same manner.\n",
    "\n",
    "Now it chanced that an old soldier, who had been wounded in battle\n",
    "and could fight no longer, passed through the country where this king\n",
    "reigned: and as he was travelling through a wood, he met an old woman,\n",
    "who asked him where he was going. ‘I hardly know where I am going, or\n",
    "what I had better do,’ said the soldier; ‘but I think I should like very\n",
    "well to find out where it is that the princesses dance, and then in time\n",
    "I might be a king.’ ‘Well,’ said the old dame, ‘that is no very hard\n",
    "task: only take care not to drink any of the wine which one of the\n",
    "princesses will bring to you in the evening; and as soon as she leaves\n",
    "you pretend to be fast asleep.’\n",
    "\n",
    "Then she gave him a cloak, and said, ‘As soon as you put that on\n",
    "you will become invisible, and you will then be able to follow the\n",
    "princesses wherever they go.’ When the soldier heard all this good\n",
    "counsel, he determined to try his luck: so he went to the king, and said\n",
    "he was willing to undertake the task.\n",
    "\n",
    "He was as well received as the others had been, and the king ordered\n",
    "fine royal robes to be given him; and when the evening came he was led\n",
    "to the outer chamber. Just as he was going to lie down, the eldest of\n",
    "the princesses brought him a cup of wine; but the soldier threw it all\n",
    "away secretly, taking care not to drink a drop. Then he laid himself\n",
    "down on his bed, and in a little while began to snore very loud as if\n",
    "he was fast asleep. When the twelve princesses heard this they laughed\n",
    "heartily; and the eldest said, ‘This fellow too might have done a wiser\n",
    "thing than lose his life in this way!’ Then they rose up and opened\n",
    "their drawers and boxes, and took out all their fine clothes, and\n",
    "dressed themselves at the glass, and skipped about as if they were eager\n",
    "to begin dancing. But the youngest said, ‘I don’t know how it is, while\n",
    "you are so happy I feel very uneasy; I am sure some mischance will\n",
    "befall us.’ ‘You simpleton,’ said the eldest, ‘you are always afraid;\n",
    "have you forgotten how many kings’ sons have already watched in vain?\n",
    "And as for this soldier, even if I had not given him his sleeping\n",
    "draught, he would have slept soundly enough.’\n",
    "\n",
    "When they were all ready, they went and looked at the soldier; but he\n",
    "snored on, and did not stir hand or foot: so they thought they were\n",
    "quite safe; and the eldest went up to her own bed and clapped her hands,\n",
    "and the bed sank into the floor and a trap-door flew open. The soldier\n",
    "saw them going down through the trap-door one after another, the eldest\n",
    "leading the way; and thinking he had no time to lose, he jumped up, put\n",
    "on the cloak which the old woman had given him, and followed them;\n",
    "but in the middle of the stairs he trod on the gown of the youngest\n",
    "princess, and she cried out to her sisters, ‘All is not right; someone\n",
    "took hold of my gown.’ ‘You silly creature!’ said the eldest, ‘it is\n",
    "nothing but a nail in the wall.’ Then down they all went, and at the\n",
    "bottom they found themselves in a most delightful grove of trees; and\n",
    "the leaves were all of silver, and glittered and sparkled beautifully.\n",
    "The soldier wished to take away some token of the place; so he broke\n",
    "off a little branch, and there came a loud noise from the tree. Then the\n",
    "youngest daughter said again, ‘I am sure all is not right--did not you\n",
    "hear that noise? That never happened before.’ But the eldest said, ‘It\n",
    "is only our princes, who are shouting for joy at our approach.’\n",
    "\n",
    "Then they came to another grove of trees, where all the leaves were of\n",
    "gold; and afterwards to a third, where the leaves were all glittering\n",
    "diamonds. And the soldier broke a branch from each; and every time there\n",
    "was a loud noise, which made the youngest sister tremble with fear; but\n",
    "the eldest still said, it was only the princes, who were crying for joy.\n",
    "So they went on till they came to a great lake; and at the side of the\n",
    "lake there lay twelve little boats with twelve handsome princes in them,\n",
    "who seemed to be waiting there for the princesses.\n",
    "\n",
    "One of the princesses went into each boat, and the soldier stepped into\n",
    "the same boat with the youngest. As they were rowing over the lake, the\n",
    "prince who was in the boat with the youngest princess and the soldier\n",
    "said, ‘I do not know why it is, but though I am rowing with all my might\n",
    "we do not get on so fast as usual, and I am quite tired: the boat\n",
    "seems very heavy today.’ ‘It is only the heat of the weather,’ said the\n",
    "princess: ‘I feel it very warm too.’\n",
    "\n",
    "On the other side of the lake stood a fine illuminated castle, from\n",
    "which came the merry music of horns and trumpets. There they all landed,\n",
    "and went into the castle, and each prince danced with his princess; and\n",
    "the soldier, who was all the time invisible, danced with them too; and\n",
    "when any of the princesses had a cup of wine set by her, he drank it\n",
    "all up, so that when she put the cup to her mouth it was empty. At this,\n",
    "too, the youngest sister was terribly frightened, but the eldest always\n",
    "silenced her. They danced on till three o’clock in the morning, and then\n",
    "all their shoes were worn out, so that they were obliged to leave off.\n",
    "The princes rowed them back again over the lake (but this time the\n",
    "soldier placed himself in the boat with the eldest princess); and on the\n",
    "opposite shore they took leave of each other, the princesses promising\n",
    "to come again the next night.\n",
    "\n",
    "When they came to the stairs, the soldier ran on before the princesses,\n",
    "and laid himself down; and as the twelve sisters slowly came up very\n",
    "much tired, they heard him snoring in his bed; so they said, ‘Now all\n",
    "is quite safe’; then they undressed themselves, put away their fine\n",
    "clothes, pulled off their shoes, and went to bed. In the morning the\n",
    "soldier said nothing about what had happened, but determined to see more\n",
    "of this strange adventure, and went again the second and third night;\n",
    "and every thing happened just as before; the princesses danced each time\n",
    "till their shoes were worn to pieces, and then returned home. However,\n",
    "on the third night the soldier carried away one of the golden cups as a\n",
    "token of where he had been.\n",
    "\n",
    "As soon as the time came when he was to declare the secret, he was taken\n",
    "before the king with the three branches and the golden cup; and the\n",
    "twelve princesses stood listening behind the door to hear what he would\n",
    "say. And when the king asked him. ‘Where do my twelve daughters dance at\n",
    "night?’ he answered, ‘With twelve princes in a castle under ground.’ And\n",
    "then he told the king all that had happened, and showed him the three\n",
    "branches and the golden cup which he had brought with him. Then the king\n",
    "called for the princesses, and asked them whether what the soldier said\n",
    "was true: and when they saw that they were discovered, and that it was\n",
    "of no use to deny what had happened, they confessed it all. And the king\n",
    "asked the soldier which of them he would choose for his wife; and he\n",
    "answered, ‘I am not very young, so I will have the eldest.’--And they\n",
    "were married that very day, and the soldier was chosen to be the king’s\n",
    "heir.'''"
   ]
  },
  {
   "cell_type": "code",
   "execution_count": 6,
   "metadata": {},
   "outputs": [],
   "source": [
    "#filepath = \"datasets/datasets_12dancingprincesses.txt\"\n",
    "#princess = pd.read_csv(filepath)"
   ]
  },
  {
   "cell_type": "code",
   "execution_count": 13,
   "metadata": {
    "collapsed": true
   },
   "outputs": [],
   "source": [
    "princess_txt = princess_txt.lower()\n",
    "#princess_txt = princess_txt.split()"
   ]
  },
  {
   "cell_type": "code",
   "execution_count": 14,
   "metadata": {},
   "outputs": [],
   "source": [
    "princess_txt_tknze = word_tokenize(princess_txt)"
   ]
  },
  {
   "cell_type": "code",
   "execution_count": 15,
   "metadata": {},
   "outputs": [
    {
     "data": {
      "text/plain": [
       "list"
      ]
     },
     "execution_count": 15,
     "metadata": {},
     "output_type": "execute_result"
    }
   ],
   "source": [
    "type(princess_txt_tknze)"
   ]
  },
  {
   "cell_type": "code",
   "execution_count": 16,
   "metadata": {},
   "outputs": [
    {
     "data": {
      "text/plain": [
       "['the', 'twelve', 'dancing', 'princesses', 'there']"
      ]
     },
     "execution_count": 16,
     "metadata": {},
     "output_type": "execute_result"
    }
   ],
   "source": [
    "princess_txt_tknze[:5]"
   ]
  },
  {
   "cell_type": "code",
   "execution_count": 18,
   "metadata": {
    "collapsed": true
   },
   "outputs": [],
   "source": [
    "for word in princess_txt_tknze:\n",
    "    if word in punctuation:\n",
    "        princess_txt_tknze.remove(word)"
   ]
  },
  {
   "cell_type": "code",
   "execution_count": 23,
   "metadata": {
    "collapsed": true
   },
   "outputs": [],
   "source": [
    "eng_stopwords = stopwords.words('english')"
   ]
  },
  {
   "cell_type": "code",
   "execution_count": 30,
   "metadata": {},
   "outputs": [],
   "source": [
    "princess_txt_tknze_nostpwrds = []\n",
    "stpwrds_count = 0\n",
    "\n",
    "for word in princess_txt_tknze:\n",
    "    if word not in eng_stopwords:\n",
    "        princess_txt_tknze_nostpwrds.append(word)\n",
    "    else:\n",
    "        stpwrds_count += 1"
   ]
  },
  {
   "cell_type": "code",
   "execution_count": 31,
   "metadata": {},
   "outputs": [
    {
     "data": {
      "text/plain": [
       "list"
      ]
     },
     "execution_count": 31,
     "metadata": {},
     "output_type": "execute_result"
    }
   ],
   "source": [
    "type(princess_txt_tknze_nostpwrds)"
   ]
  },
  {
   "cell_type": "code",
   "execution_count": 32,
   "metadata": {},
   "outputs": [
    {
     "data": {
      "text/plain": [
       "['twelve',\n",
       " 'dancing',\n",
       " 'princesses',\n",
       " 'king',\n",
       " 'twelve',\n",
       " 'beautiful',\n",
       " 'daughters',\n",
       " 'slept',\n",
       " 'twelve',\n",
       " 'beds',\n",
       " 'one',\n",
       " 'room',\n",
       " 'went',\n",
       " 'bed',\n",
       " 'doors']"
      ]
     },
     "execution_count": 32,
     "metadata": {},
     "output_type": "execute_result"
    }
   ],
   "source": [
    "princess_txt_tknze_nostpwrds[:15]"
   ]
  },
  {
   "cell_type": "code",
   "execution_count": 39,
   "metadata": {},
   "outputs": [
    {
     "data": {
      "text/plain": [
       "[('’', 27),\n",
       " ('‘', 21),\n",
       " ('soldier', 19),\n",
       " ('princesses', 17),\n",
       " ('said', 16),\n",
       " ('king', 15),\n",
       " ('twelve', 11),\n",
       " ('went', 11),\n",
       " ('came', 10),\n",
       " ('eldest', 10)]"
      ]
     },
     "execution_count": 39,
     "metadata": {},
     "output_type": "execute_result"
    }
   ],
   "source": [
    "princess_complete = FreqDist(princess_txt_tknze_nostpwrds).most_common(10)\n",
    "princess_complete"
   ]
  },
  {
   "cell_type": "code",
   "execution_count": 40,
   "metadata": {
    "collapsed": true
   },
   "outputs": [],
   "source": [
    "princess_df = pd.DataFrame(princess_complete, columns = ['Word', 'Fequency'])"
   ]
  },
  {
   "cell_type": "code",
   "execution_count": 41,
   "metadata": {},
   "outputs": [
    {
     "data": {
      "text/html": [
       "<div>\n",
       "<style>\n",
       "    .dataframe thead tr:only-child th {\n",
       "        text-align: right;\n",
       "    }\n",
       "\n",
       "    .dataframe thead th {\n",
       "        text-align: left;\n",
       "    }\n",
       "\n",
       "    .dataframe tbody tr th {\n",
       "        vertical-align: top;\n",
       "    }\n",
       "</style>\n",
       "<table border=\"1\" class=\"dataframe\">\n",
       "  <thead>\n",
       "    <tr style=\"text-align: right;\">\n",
       "      <th></th>\n",
       "      <th>Word</th>\n",
       "      <th>Fequency</th>\n",
       "    </tr>\n",
       "  </thead>\n",
       "  <tbody>\n",
       "    <tr>\n",
       "      <th>0</th>\n",
       "      <td>’</td>\n",
       "      <td>27</td>\n",
       "    </tr>\n",
       "    <tr>\n",
       "      <th>1</th>\n",
       "      <td>‘</td>\n",
       "      <td>21</td>\n",
       "    </tr>\n",
       "    <tr>\n",
       "      <th>2</th>\n",
       "      <td>soldier</td>\n",
       "      <td>19</td>\n",
       "    </tr>\n",
       "    <tr>\n",
       "      <th>3</th>\n",
       "      <td>princesses</td>\n",
       "      <td>17</td>\n",
       "    </tr>\n",
       "    <tr>\n",
       "      <th>4</th>\n",
       "      <td>said</td>\n",
       "      <td>16</td>\n",
       "    </tr>\n",
       "    <tr>\n",
       "      <th>5</th>\n",
       "      <td>king</td>\n",
       "      <td>15</td>\n",
       "    </tr>\n",
       "    <tr>\n",
       "      <th>6</th>\n",
       "      <td>twelve</td>\n",
       "      <td>11</td>\n",
       "    </tr>\n",
       "    <tr>\n",
       "      <th>7</th>\n",
       "      <td>went</td>\n",
       "      <td>11</td>\n",
       "    </tr>\n",
       "    <tr>\n",
       "      <th>8</th>\n",
       "      <td>came</td>\n",
       "      <td>10</td>\n",
       "    </tr>\n",
       "    <tr>\n",
       "      <th>9</th>\n",
       "      <td>eldest</td>\n",
       "      <td>10</td>\n",
       "    </tr>\n",
       "  </tbody>\n",
       "</table>\n",
       "</div>"
      ],
      "text/plain": [
       "         Word  Fequency\n",
       "0           ’        27\n",
       "1           ‘        21\n",
       "2     soldier        19\n",
       "3  princesses        17\n",
       "4        said        16\n",
       "5        king        15\n",
       "6      twelve        11\n",
       "7        went        11\n",
       "8        came        10\n",
       "9      eldest        10"
      ]
     },
     "execution_count": 41,
     "metadata": {},
     "output_type": "execute_result"
    }
   ],
   "source": [
    "princess_df"
   ]
  },
  {
   "cell_type": "code",
   "execution_count": null,
   "metadata": {
    "collapsed": true
   },
   "outputs": [],
   "source": []
  }
 ],
 "metadata": {
  "kernelspec": {
   "display_name": "Python 3",
   "language": "python",
   "name": "python3"
  },
  "language_info": {
   "codemirror_mode": {
    "name": "ipython",
    "version": 3
   },
   "file_extension": ".py",
   "mimetype": "text/x-python",
   "name": "python",
   "nbconvert_exporter": "python",
   "pygments_lexer": "ipython3",
   "version": "3.6.3"
  }
 },
 "nbformat": 4,
 "nbformat_minor": 2
}
