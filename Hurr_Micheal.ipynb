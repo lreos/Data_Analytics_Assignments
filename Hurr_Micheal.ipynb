{
 "cells": [
  {
   "cell_type": "code",
   "execution_count": 1,
   "metadata": {},
   "outputs": [],
   "source": [
    "import pandas as pd\n",
    "import geopandas as gpd #used for transforming geolocation data\n",
    "import matplotlib.pyplot as plt\n",
    "\n",
    "from datetime import datetime  #to convert data to datetime that does not fall within the pandas.to_datetime function timeframe\n",
    "from shapely.geometry import Point  #transform latitude/longitude to geo-coordinate data\n",
    "from geopandas.tools import geocode #get the latitude/longitude for a given address\n",
    "from geopandas.tools import reverse_geocode  #get the address for a location using latitude/longitude\n",
    "\n",
    "%matplotlib inline"
   ]
  },
  {
   "cell_type": "code",
   "execution_count": 2,
   "metadata": {},
   "outputs": [
    {
     "data": {
      "text/html": [
       "<div>\n",
       "<style scoped>\n",
       "    .dataframe tbody tr th:only-of-type {\n",
       "        vertical-align: middle;\n",
       "    }\n",
       "\n",
       "    .dataframe tbody tr th {\n",
       "        vertical-align: top;\n",
       "    }\n",
       "\n",
       "    .dataframe thead th {\n",
       "        text-align: right;\n",
       "    }\n",
       "</style>\n",
       "<table border=\"1\" class=\"dataframe\">\n",
       "  <thead>\n",
       "    <tr style=\"text-align: right;\">\n",
       "      <th></th>\n",
       "      <th>AdvisoryNumber</th>\n",
       "      <th>Date</th>\n",
       "      <th>Lat</th>\n",
       "      <th>Long</th>\n",
       "      <th>Wind</th>\n",
       "      <th>Pres</th>\n",
       "      <th>Movement</th>\n",
       "      <th>Type</th>\n",
       "      <th>Name</th>\n",
       "      <th>Received</th>\n",
       "      <th>Forecaster</th>\n",
       "    </tr>\n",
       "  </thead>\n",
       "  <tbody>\n",
       "    <tr>\n",
       "      <th>0</th>\n",
       "      <td>1</td>\n",
       "      <td>10/06/2018 17:00</td>\n",
       "      <td>18.0</td>\n",
       "      <td>86.6</td>\n",
       "      <td>30</td>\n",
       "      <td>1006</td>\n",
       "      <td>NW at 6 MPH (325 deg)</td>\n",
       "      <td>Potential Tropical Cyclone</td>\n",
       "      <td>Fourteen</td>\n",
       "      <td>10/06/2018 16:50</td>\n",
       "      <td>Beven</td>\n",
       "    </tr>\n",
       "    <tr>\n",
       "      <th>1</th>\n",
       "      <td>1A</td>\n",
       "      <td>10/06/2018 20:00</td>\n",
       "      <td>18.3</td>\n",
       "      <td>86.6</td>\n",
       "      <td>30</td>\n",
       "      <td>1004</td>\n",
       "      <td>N at 6 MPH (360 deg)</td>\n",
       "      <td>Potential Tropical Cyclone</td>\n",
       "      <td>Fourteen</td>\n",
       "      <td>10/06/2018 19:32</td>\n",
       "      <td>Avila</td>\n",
       "    </tr>\n",
       "    <tr>\n",
       "      <th>2</th>\n",
       "      <td>2</td>\n",
       "      <td>10/06/2018 23:00</td>\n",
       "      <td>18.8</td>\n",
       "      <td>86.6</td>\n",
       "      <td>30</td>\n",
       "      <td>1004</td>\n",
       "      <td>N at 7 MPH (360 deg)</td>\n",
       "      <td>Potential Tropical Cyclone</td>\n",
       "      <td>Fourteen</td>\n",
       "      <td>10/06/2018 22:38</td>\n",
       "      <td>Avila</td>\n",
       "    </tr>\n",
       "    <tr>\n",
       "      <th>3</th>\n",
       "      <td>2A</td>\n",
       "      <td>10/07/2018 02:00</td>\n",
       "      <td>18.4</td>\n",
       "      <td>87.1</td>\n",
       "      <td>35</td>\n",
       "      <td>1004</td>\n",
       "      <td>NW at 5 MPH (320 deg)</td>\n",
       "      <td>Potential Tropical Cyclone</td>\n",
       "      <td>Fourteen</td>\n",
       "      <td>10/07/2018 01:38</td>\n",
       "      <td>Berg</td>\n",
       "    </tr>\n",
       "    <tr>\n",
       "      <th>4</th>\n",
       "      <td>3</td>\n",
       "      <td>10/07/2018 05:00</td>\n",
       "      <td>18.6</td>\n",
       "      <td>86.9</td>\n",
       "      <td>35</td>\n",
       "      <td>1004</td>\n",
       "      <td>NNW at 3 MPH (340 deg)</td>\n",
       "      <td>Tropical Depression</td>\n",
       "      <td>FOURTEEN</td>\n",
       "      <td>10/07/2018 04:53</td>\n",
       "      <td>Berg</td>\n",
       "    </tr>\n",
       "  </tbody>\n",
       "</table>\n",
       "</div>"
      ],
      "text/plain": [
       "  AdvisoryNumber              Date   Lat  Long  Wind  Pres  \\\n",
       "0              1  10/06/2018 17:00  18.0  86.6    30  1006   \n",
       "1             1A  10/06/2018 20:00  18.3  86.6    30  1004   \n",
       "2              2  10/06/2018 23:00  18.8  86.6    30  1004   \n",
       "3             2A  10/07/2018 02:00  18.4  87.1    35  1004   \n",
       "4              3  10/07/2018 05:00  18.6  86.9    35  1004   \n",
       "\n",
       "                 Movement                        Type      Name  \\\n",
       "0   NW at 6 MPH (325 deg)  Potential Tropical Cyclone  Fourteen   \n",
       "1    N at 6 MPH (360 deg)  Potential Tropical Cyclone  Fourteen   \n",
       "2    N at 7 MPH (360 deg)  Potential Tropical Cyclone  Fourteen   \n",
       "3   NW at 5 MPH (320 deg)  Potential Tropical Cyclone  Fourteen   \n",
       "4  NNW at 3 MPH (340 deg)         Tropical Depression  FOURTEEN   \n",
       "\n",
       "           Received Forecaster  \n",
       "0  10/06/2018 16:50      Beven  \n",
       "1  10/06/2018 19:32      Avila  \n",
       "2  10/06/2018 22:38      Avila  \n",
       "3  10/07/2018 01:38       Berg  \n",
       "4  10/07/2018 04:53       Berg  "
      ]
     },
     "execution_count": 2,
     "metadata": {},
     "output_type": "execute_result"
    }
   ],
   "source": [
    "#load hurricane data collected from MS Azure\n",
    "hurr_df = pd.read_csv(\"datasets/datasets_hurricaneMichael.csv\")\n",
    "hurr_df.head()"
   ]
  },
  {
   "cell_type": "code",
   "execution_count": 5,
   "metadata": {},
   "outputs": [
    {
     "data": {
      "text/plain": [
       "pandas.core.frame.DataFrame"
      ]
     },
     "execution_count": 5,
     "metadata": {},
     "output_type": "execute_result"
    }
   ],
   "source": [
    "type(hurr_df)"
   ]
  },
  {
   "cell_type": "code",
   "execution_count": 8,
   "metadata": {},
   "outputs": [
    {
     "data": {
      "text/plain": [
       "AdvisoryNumber    0\n",
       "Date              0\n",
       "Lat               0\n",
       "Long              0\n",
       "Wind              0\n",
       "Pres              0\n",
       "Movement          0\n",
       "Type              0\n",
       "Name              0\n",
       "Received          0\n",
       "Forecaster        0\n",
       "dtype: int64"
      ]
     },
     "execution_count": 8,
     "metadata": {},
     "output_type": "execute_result"
    }
   ],
   "source": [
    "hurr_df.isnull().sum()"
   ]
  },
  {
   "cell_type": "code",
   "execution_count": 9,
   "metadata": {},
   "outputs": [
    {
     "data": {
      "text/plain": [
       "Index(['AdvisoryNumber', 'Date', 'Lat', 'Long', 'Wind', 'Pres', 'Movement',\n",
       "       'Type', 'Name', 'Received', 'Forecaster'],\n",
       "      dtype='object')"
      ]
     },
     "execution_count": 9,
     "metadata": {},
     "output_type": "execute_result"
    }
   ],
   "source": [
    "hurr_df.columns"
   ]
  },
  {
   "cell_type": "code",
   "execution_count": 10,
   "metadata": {},
   "outputs": [],
   "source": [
    "hurr_df['Long'] = 0 - hurr_df['Long']"
   ]
  },
  {
   "cell_type": "code",
   "execution_count": 11,
   "metadata": {},
   "outputs": [
    {
     "data": {
      "text/plain": [
       "0   -86.6\n",
       "1   -86.6\n",
       "2   -86.6\n",
       "3   -87.1\n",
       "4   -86.9\n",
       "Name: Long, dtype: float64"
      ]
     },
     "execution_count": 11,
     "metadata": {},
     "output_type": "execute_result"
    }
   ],
   "source": [
    "hurr_df['Long'].head()"
   ]
  },
  {
   "cell_type": "code",
   "execution_count": 14,
   "metadata": {},
   "outputs": [],
   "source": [
    "#meteor_df['coordinates'] = list(meteor_df[['longitude', 'latitude']].values)\n",
    "hurr_df['coordinates'] = list(hurr_df[['Long','Lat']].values)"
   ]
  },
  {
   "cell_type": "code",
   "execution_count": 15,
   "metadata": {},
   "outputs": [
    {
     "data": {
      "text/plain": [
       "0    [-86.6, 18.0]\n",
       "1    [-86.6, 18.3]\n",
       "2    [-86.6, 18.8]\n",
       "3    [-87.1, 18.4]\n",
       "4    [-86.9, 18.6]\n",
       "Name: coordinates, dtype: object"
      ]
     },
     "execution_count": 15,
     "metadata": {},
     "output_type": "execute_result"
    }
   ],
   "source": [
    "hurr_df['coordinates'].head()"
   ]
  },
  {
   "cell_type": "code",
   "execution_count": 17,
   "metadata": {},
   "outputs": [
    {
     "data": {
      "text/plain": [
       "pandas.core.series.Series"
      ]
     },
     "execution_count": 17,
     "metadata": {},
     "output_type": "execute_result"
    }
   ],
   "source": [
    "type(hurr_df['coordinates'])"
   ]
  },
  {
   "cell_type": "code",
   "execution_count": 18,
   "metadata": {},
   "outputs": [
    {
     "data": {
      "text/plain": [
       "pandas.core.series.Series"
      ]
     },
     "execution_count": 18,
     "metadata": {},
     "output_type": "execute_result"
    }
   ],
   "source": [
    "type(hurr_df['Date'])"
   ]
  },
  {
   "cell_type": "code",
   "execution_count": 19,
   "metadata": {},
   "outputs": [],
   "source": [
    "hurr_df['coordinates'] = hurr_df['coordinates'].apply(Point)"
   ]
  },
  {
   "cell_type": "code",
   "execution_count": 20,
   "metadata": {},
   "outputs": [
    {
     "data": {
      "text/plain": [
       "0      POINT (-86.59999999999999 18)\n",
       "1    POINT (-86.59999999999999 18.3)\n",
       "2    POINT (-86.59999999999999 18.8)\n",
       "3    POINT (-87.09999999999999 18.4)\n",
       "4    POINT (-86.90000000000001 18.6)\n",
       "Name: coordinates, dtype: object"
      ]
     },
     "execution_count": 20,
     "metadata": {},
     "output_type": "execute_result"
    }
   ],
   "source": [
    "hurr_df['coordinates'].head()"
   ]
  },
  {
   "cell_type": "code",
   "execution_count": 21,
   "metadata": {},
   "outputs": [
    {
     "data": {
      "text/plain": [
       "pandas.core.series.Series"
      ]
     },
     "execution_count": 21,
     "metadata": {},
     "output_type": "execute_result"
    }
   ],
   "source": [
    "type(hurr_df['coordinates'])"
   ]
  },
  {
   "cell_type": "code",
   "execution_count": 37,
   "metadata": {},
   "outputs": [],
   "source": [
    "geo_hurr_df = gpd.GeoDataFrame(hurr_df, geometry = 'coordinates')"
   ]
  },
  {
   "cell_type": "code",
   "execution_count": 30,
   "metadata": {},
   "outputs": [
    {
     "data": {
      "text/html": [
       "<div>\n",
       "<style scoped>\n",
       "    .dataframe tbody tr th:only-of-type {\n",
       "        vertical-align: middle;\n",
       "    }\n",
       "\n",
       "    .dataframe tbody tr th {\n",
       "        vertical-align: top;\n",
       "    }\n",
       "\n",
       "    .dataframe thead th {\n",
       "        text-align: right;\n",
       "    }\n",
       "</style>\n",
       "<table border=\"1\" class=\"dataframe\">\n",
       "  <thead>\n",
       "    <tr style=\"text-align: right;\">\n",
       "      <th></th>\n",
       "      <th>GEO_ID</th>\n",
       "      <th>STATE</th>\n",
       "      <th>NAME</th>\n",
       "      <th>LSAD</th>\n",
       "      <th>CENSUSAREA</th>\n",
       "      <th>geometry</th>\n",
       "    </tr>\n",
       "  </thead>\n",
       "  <tbody>\n",
       "    <tr>\n",
       "      <th>0</th>\n",
       "      <td>0400000US01</td>\n",
       "      <td>01</td>\n",
       "      <td>Alabama</td>\n",
       "      <td></td>\n",
       "      <td>50645.326</td>\n",
       "      <td>(POLYGON ((-88.124658 30.28364, -88.0868119999...</td>\n",
       "    </tr>\n",
       "    <tr>\n",
       "      <th>1</th>\n",
       "      <td>0400000US02</td>\n",
       "      <td>02</td>\n",
       "      <td>Alaska</td>\n",
       "      <td></td>\n",
       "      <td>570640.950</td>\n",
       "      <td>(POLYGON ((-166.10574 53.988606, -166.075283 5...</td>\n",
       "    </tr>\n",
       "    <tr>\n",
       "      <th>2</th>\n",
       "      <td>0400000US04</td>\n",
       "      <td>04</td>\n",
       "      <td>Arizona</td>\n",
       "      <td></td>\n",
       "      <td>113594.084</td>\n",
       "      <td>POLYGON ((-112.538593 37.000674, -112.534545 3...</td>\n",
       "    </tr>\n",
       "    <tr>\n",
       "      <th>3</th>\n",
       "      <td>0400000US05</td>\n",
       "      <td>05</td>\n",
       "      <td>Arkansas</td>\n",
       "      <td></td>\n",
       "      <td>52035.477</td>\n",
       "      <td>POLYGON ((-94.042964 33.019219, -94.043036 33....</td>\n",
       "    </tr>\n",
       "    <tr>\n",
       "      <th>4</th>\n",
       "      <td>0400000US06</td>\n",
       "      <td>06</td>\n",
       "      <td>California</td>\n",
       "      <td></td>\n",
       "      <td>155779.220</td>\n",
       "      <td>(POLYGON ((-122.421439 37.869969, -122.421341 ...</td>\n",
       "    </tr>\n",
       "  </tbody>\n",
       "</table>\n",
       "</div>"
      ],
      "text/plain": [
       "        GEO_ID STATE        NAME LSAD  CENSUSAREA  \\\n",
       "0  0400000US01    01     Alabama        50645.326   \n",
       "1  0400000US02    02      Alaska       570640.950   \n",
       "2  0400000US04    04     Arizona       113594.084   \n",
       "3  0400000US05    05    Arkansas        52035.477   \n",
       "4  0400000US06    06  California       155779.220   \n",
       "\n",
       "                                            geometry  \n",
       "0  (POLYGON ((-88.124658 30.28364, -88.0868119999...  \n",
       "1  (POLYGON ((-166.10574 53.988606, -166.075283 5...  \n",
       "2  POLYGON ((-112.538593 37.000674, -112.534545 3...  \n",
       "3  POLYGON ((-94.042964 33.019219, -94.043036 33....  \n",
       "4  (POLYGON ((-122.421439 37.869969, -122.421341 ...  "
      ]
     },
     "execution_count": 30,
     "metadata": {},
     "output_type": "execute_result"
    }
   ],
   "source": [
    "US_df = gpd.read_file('datasets/datasets_US_states(5m).json')\n",
    "US_df.head()"
   ]
  },
  {
   "cell_type": "code",
   "execution_count": 31,
   "metadata": {},
   "outputs": [
    {
     "data": {
      "text/plain": [
       "geopandas.geoseries.GeoSeries"
      ]
     },
     "execution_count": 31,
     "metadata": {},
     "output_type": "execute_result"
    }
   ],
   "source": [
    "type(US_df['geometry'])"
   ]
  },
  {
   "cell_type": "code",
   "execution_count": 35,
   "metadata": {},
   "outputs": [
    {
     "data": {
      "text/html": [
       "<div>\n",
       "<style scoped>\n",
       "    .dataframe tbody tr th:only-of-type {\n",
       "        vertical-align: middle;\n",
       "    }\n",
       "\n",
       "    .dataframe tbody tr th {\n",
       "        vertical-align: top;\n",
       "    }\n",
       "\n",
       "    .dataframe thead th {\n",
       "        text-align: right;\n",
       "    }\n",
       "</style>\n",
       "<table border=\"1\" class=\"dataframe\">\n",
       "  <thead>\n",
       "    <tr style=\"text-align: right;\">\n",
       "      <th></th>\n",
       "      <th>GEO_ID</th>\n",
       "      <th>STATE</th>\n",
       "      <th>NAME</th>\n",
       "      <th>LSAD</th>\n",
       "      <th>CENSUSAREA</th>\n",
       "      <th>geometry</th>\n",
       "    </tr>\n",
       "  </thead>\n",
       "  <tbody>\n",
       "    <tr>\n",
       "      <th>0</th>\n",
       "      <td>0400000US01</td>\n",
       "      <td>01</td>\n",
       "      <td>Alabama</td>\n",
       "      <td></td>\n",
       "      <td>50645.326</td>\n",
       "      <td>(POLYGON ((-88.124658 30.28364, -88.0868119999...</td>\n",
       "    </tr>\n",
       "    <tr>\n",
       "      <th>2</th>\n",
       "      <td>0400000US04</td>\n",
       "      <td>04</td>\n",
       "      <td>Arizona</td>\n",
       "      <td></td>\n",
       "      <td>113594.084</td>\n",
       "      <td>POLYGON ((-112.538593 37.000674, -112.534545 3...</td>\n",
       "    </tr>\n",
       "    <tr>\n",
       "      <th>3</th>\n",
       "      <td>0400000US05</td>\n",
       "      <td>05</td>\n",
       "      <td>Arkansas</td>\n",
       "      <td></td>\n",
       "      <td>52035.477</td>\n",
       "      <td>POLYGON ((-94.042964 33.019219, -94.043036 33....</td>\n",
       "    </tr>\n",
       "    <tr>\n",
       "      <th>4</th>\n",
       "      <td>0400000US06</td>\n",
       "      <td>06</td>\n",
       "      <td>California</td>\n",
       "      <td></td>\n",
       "      <td>155779.220</td>\n",
       "      <td>(POLYGON ((-122.421439 37.869969, -122.421341 ...</td>\n",
       "    </tr>\n",
       "    <tr>\n",
       "      <th>5</th>\n",
       "      <td>0400000US08</td>\n",
       "      <td>08</td>\n",
       "      <td>Colorado</td>\n",
       "      <td></td>\n",
       "      <td>103641.888</td>\n",
       "      <td>POLYGON ((-106.190554 40.997607, -106.061181 4...</td>\n",
       "    </tr>\n",
       "  </tbody>\n",
       "</table>\n",
       "</div>"
      ],
      "text/plain": [
       "        GEO_ID STATE        NAME LSAD  CENSUSAREA  \\\n",
       "0  0400000US01    01     Alabama        50645.326   \n",
       "2  0400000US04    04     Arizona       113594.084   \n",
       "3  0400000US05    05    Arkansas        52035.477   \n",
       "4  0400000US06    06  California       155779.220   \n",
       "5  0400000US08    08    Colorado       103641.888   \n",
       "\n",
       "                                            geometry  \n",
       "0  (POLYGON ((-88.124658 30.28364, -88.0868119999...  \n",
       "2  POLYGON ((-112.538593 37.000674, -112.534545 3...  \n",
       "3  POLYGON ((-94.042964 33.019219, -94.043036 33....  \n",
       "4  (POLYGON ((-122.421439 37.869969, -122.421341 ...  \n",
       "5  POLYGON ((-106.190554 40.997607, -106.061181 4...  "
      ]
     },
     "execution_count": 35,
     "metadata": {},
     "output_type": "execute_result"
    }
   ],
   "source": [
    "US48_df = US_df.loc[US_df['NAME'].isin(['Alaska', 'Hawaii', 'Puerto Rico']) == False]\n",
    "US48_df.head()"
   ]
  },
  {
   "cell_type": "code",
   "execution_count": 36,
   "metadata": {},
   "outputs": [
    {
     "data": {
      "text/plain": [
       "<bound method GeoDataFrame.plot of          GEO_ID STATE                  NAME LSAD  CENSUSAREA  \\\n",
       "0   0400000US01    01               Alabama        50645.326   \n",
       "2   0400000US04    04               Arizona       113594.084   \n",
       "3   0400000US05    05              Arkansas        52035.477   \n",
       "4   0400000US06    06            California       155779.220   \n",
       "5   0400000US08    08              Colorado       103641.888   \n",
       "6   0400000US09    09           Connecticut         4842.355   \n",
       "7   0400000US10    10              Delaware         1948.543   \n",
       "8   0400000US11    11  District of Columbia           61.048   \n",
       "9   0400000US12    12               Florida        53624.759   \n",
       "10  0400000US13    13               Georgia        57513.485   \n",
       "12  0400000US16    16                 Idaho        82643.117   \n",
       "13  0400000US17    17              Illinois        55518.930   \n",
       "14  0400000US18    18               Indiana        35826.109   \n",
       "15  0400000US19    19                  Iowa        55857.130   \n",
       "16  0400000US20    20                Kansas        81758.717   \n",
       "17  0400000US21    21              Kentucky        39486.338   \n",
       "18  0400000US22    22             Louisiana        43203.905   \n",
       "19  0400000US23    23                 Maine        30842.923   \n",
       "20  0400000US24    24              Maryland         9707.241   \n",
       "21  0400000US25    25         Massachusetts         7800.058   \n",
       "22  0400000US26    26              Michigan        56538.901   \n",
       "23  0400000US27    27             Minnesota        79626.743   \n",
       "24  0400000US28    28           Mississippi        46923.274   \n",
       "25  0400000US29    29              Missouri        68741.522   \n",
       "26  0400000US30    30               Montana       145545.801   \n",
       "27  0400000US31    31              Nebraska        76824.171   \n",
       "28  0400000US32    32                Nevada       109781.180   \n",
       "29  0400000US33    33         New Hampshire         8952.651   \n",
       "30  0400000US34    34            New Jersey         7354.220   \n",
       "31  0400000US35    35            New Mexico       121298.148   \n",
       "32  0400000US36    36              New York        47126.399   \n",
       "33  0400000US37    37        North Carolina        48617.905   \n",
       "34  0400000US38    38          North Dakota        69000.798   \n",
       "35  0400000US39    39                  Ohio        40860.694   \n",
       "36  0400000US40    40              Oklahoma        68594.921   \n",
       "37  0400000US41    41                Oregon        95988.013   \n",
       "38  0400000US42    42          Pennsylvania        44742.703   \n",
       "39  0400000US44    44          Rhode Island         1033.814   \n",
       "40  0400000US45    45        South Carolina        30060.696   \n",
       "41  0400000US46    46          South Dakota        75811.000   \n",
       "42  0400000US47    47             Tennessee        41234.896   \n",
       "43  0400000US48    48                 Texas       261231.711   \n",
       "44  0400000US49    49                  Utah        82169.620   \n",
       "45  0400000US50    50               Vermont         9216.657   \n",
       "46  0400000US51    51              Virginia        39490.086   \n",
       "47  0400000US53    53            Washington        66455.521   \n",
       "48  0400000US54    54         West Virginia        24038.210   \n",
       "49  0400000US55    55             Wisconsin        54157.805   \n",
       "50  0400000US56    56               Wyoming        97093.141   \n",
       "\n",
       "                                             geometry  \n",
       "0   (POLYGON ((-88.124658 30.28364, -88.0868119999...  \n",
       "2   POLYGON ((-112.538593 37.000674, -112.534545 3...  \n",
       "3   POLYGON ((-94.042964 33.019219, -94.043036 33....  \n",
       "4   (POLYGON ((-122.421439 37.869969, -122.421341 ...  \n",
       "5   POLYGON ((-106.190554 40.997607, -106.061181 4...  \n",
       "6   POLYGON ((-71.79924200000001 42.008065, -71.79...  \n",
       "7   (POLYGON ((-75.564927 39.583248, -75.576271000...  \n",
       "8   POLYGON ((-77.03859799999999 38.791513, -77.03...  \n",
       "9   (POLYGON ((-82.821585 27.964443, -82.829801 27...  \n",
       "10  POLYGON ((-84.81047700000001 34.987607, -84.80...  \n",
       "12  POLYGON ((-111.044156 43.020052, -111.044129 4...  \n",
       "13  POLYGON ((-89.36603100000001 42.500274, -89.36...  \n",
       "14  POLYGON ((-84.802483 40.528046, -84.802547 40....  \n",
       "15  POLYGON ((-91.21770600000001 43.50055, -91.218...  \n",
       "16  POLYGON ((-99.541116 36.999573, -99.5580680000...  \n",
       "17  (POLYGON ((-89.485106 36.497692, -89.492537 36...  \n",
       "18  (POLYGON ((-88.865067 29.752714, -88.889754999...  \n",
       "19  (POLYGON ((-70.15258900000001 43.746794, -70.1...  \n",
       "20  (POLYGON ((-76.048373 38.12055, -76.056811 38....  \n",
       "21  (POLYGON ((-70.827398 41.602067, -70.823735 41...  \n",
       "22  (POLYGON ((-85.82595499999999 45.404296, -85.8...  \n",
       "23  POLYGON ((-92.204691 46.704041, -92.205692 46....  \n",
       "24  (POLYGON ((-89.095623 30.231767, -89.077259 30...  \n",
       "25  POLYGON ((-89.545006 36.336809, -89.560439 36....  \n",
       "26  POLYGON ((-105.038405 45.000345, -105.076607 4...  \n",
       "27  POLYGON ((-104.053249 41.001406, -104.053158 4...  \n",
       "28  POLYGON ((-114.042145 40.999926, -114.043176 4...  \n",
       "29  POLYGON ((-72.4521 43.161414, -72.451868 43.17...  \n",
       "30  POLYGON ((-75.210876 39.865709, -75.210425 39....  \n",
       "31  POLYGON ((-105.998003 32.002328, -106.099756 3...  \n",
       "32  (POLYGON ((-74.04086 40.700117, -74.040018 40....  \n",
       "33  (POLYGON ((-75.753765 35.199612, -75.74522 35....  \n",
       "34  POLYGON ((-98.72437499999999 45.938686, -98.90...  \n",
       "35  (POLYGON ((-82.83511799999999 41.708971, -82.8...  \n",
       "36  POLYGON ((-96.94461099999999 33.949217, -96.95...  \n",
       "37  POLYGON ((-121.922236 45.649083, -121.908267 4...  \n",
       "38  POLYGON ((-79.91617100000001 39.720893, -80.07...  \n",
       "39  (POLYGON ((-71.38358599999999 41.464782, -71.3...  \n",
       "40  POLYGON ((-79.29075400000001 33.110051, -79.29...  \n",
       "41  POLYGON ((-104.054487 44.180381, -104.055389 4...  \n",
       "42  POLYGON ((-83.47210800000001 36.597284, -83.37...  \n",
       "43  (POLYGON ((-97.134356 27.896329, -97.1336 27.8...  \n",
       "44  POLYGON ((-111.046551 41.251716, -111.046723 4...  \n",
       "45  POLYGON ((-72.433796 43.232999, -72.434466 43....  \n",
       "46  (POLYGON ((-75.973607 37.835817, -75.971705 37...  \n",
       "47  (POLYGON ((-122.519535 48.288314, -122.522756 ...  \n",
       "48  POLYGON ((-80.075947 39.72135, -79.91617100000...  \n",
       "49  (POLYGON ((-90.403306 47.026693, -90.403321000...  \n",
       "50  POLYGON ((-110.048476 40.997555, -110.121639 4...  >"
      ]
     },
     "execution_count": 36,
     "metadata": {},
     "output_type": "execute_result"
    }
   ],
   "source": [
    "US48_df.plot"
   ]
  },
  {
   "cell_type": "code",
   "execution_count": 38,
   "metadata": {},
   "outputs": [
    {
     "data": {
      "text/plain": [
       "<bound method GeoDataFrame.plot of    AdvisoryNumber              Date   Lat  Long  Wind  Pres  \\\n",
       "0               1  10/06/2018 17:00  18.0 -86.6    30  1006   \n",
       "1              1A  10/06/2018 20:00  18.3 -86.6    30  1004   \n",
       "2               2  10/06/2018 23:00  18.8 -86.6    30  1004   \n",
       "3              2A  10/07/2018 02:00  18.4 -87.1    35  1004   \n",
       "4               3  10/07/2018 05:00  18.6 -86.9    35  1004   \n",
       "5              3A  10/07/2018 08:00  18.9 -86.8    35  1004   \n",
       "6               4  10/07/2018 11:00  19.2 -86.9    35  1004   \n",
       "7              4A  10/07/2018 14:00  19.2 -86.9    40  1004   \n",
       "8               5  10/07/2018 17:00  19.2 -85.5    50   999   \n",
       "9              5A  10/07/2018 20:00  19.9 -85.4    60   997   \n",
       "10              6  10/07/2018 23:00  20.0 -85.4    60   997   \n",
       "11             6A  10/08/2018 02:00  20.1 -85.5    60   994   \n",
       "12              7  10/08/2018 05:00  20.6 -85.5    70   983   \n",
       "13             7A  10/08/2018 08:00  20.9 -85.1    70   982   \n",
       "14              8  10/08/2018 11:00  21.2 -84.9    75   982   \n",
       "15             8A  10/08/2018 14:00  21.7 -85.1    75   978   \n",
       "16              9  10/08/2018 17:00  22.2 -85.2    80   978   \n",
       "17             9A  10/08/2018 20:00  22.7 -85.2    85   970   \n",
       "18             10  10/08/2018 23:00  23.2 -85.3    90   970   \n",
       "19            10A  10/09/2018 02:00  23.6 -85.7    90   973   \n",
       "20             11  10/09/2018 05:00  24.1 -85.9    90   973   \n",
       "21            11A  10/09/2018 08:00  24.5 -86.1   100   968   \n",
       "22             12  10/09/2018 11:00  25.0 -86.2   110   965   \n",
       "23            12A  10/09/2018 14:00  25.4 -86.4   110   965   \n",
       "24             13  10/09/2018 17:00  26.0 -86.4   120   957   \n",
       "25            13A  10/09/2018 20:00  26.6 -86.5   120   953   \n",
       "26             14  10/09/2018 23:00  27.1 -86.5   125   947   \n",
       "27            14A  10/10/2018 02:00  27.7 -86.6   130   945   \n",
       "28             15  10/10/2018 05:00  28.3 -86.5   140   943   \n",
       "29            15A  10/10/2018 08:00  29.0 -86.3   145   933   \n",
       "30             16  10/10/2018 11:00  29.4 -86.0   145   928   \n",
       "31            16A  10/10/2018 14:00  30.0 -85.5   155   919   \n",
       "32             17  10/10/2018 17:00  30.9 -85.1   125   932   \n",
       "33            17A  10/10/2018 20:00  31.5 -84.5    90   955   \n",
       "34             18  10/10/2018 23:00  32.1 -83.8    75   970   \n",
       "35            18A  10/11/2018 02:00  32.7 -83.2    60   979   \n",
       "36             19  10/11/2018 05:00  33.5 -82.5    50   983   \n",
       "37            19A  10/11/2018 08:00  34.1 -81.8    50   986   \n",
       "38             20  10/11/2018 11:00  34.7 -80.8    50   990   \n",
       "39            20A  10/11/2018 14:00  35.7 -80.0    50   991   \n",
       "40             21  10/11/2018 17:00  36.1 -78.8    50   990   \n",
       "41            21A  10/11/2018 20:00  36.5 -77.8    50   989   \n",
       "42             22  10/11/2018 23:00  37.1 -76.1    50   988   \n",
       "43            22A  10/12/2018 02:00  37.3 -75.1    60   985   \n",
       "44             23  10/12/2018 05:00  38.0 -73.1    65   983   \n",
       "\n",
       "                   Movement                        Type      Name  \\\n",
       "0     NW at 6 MPH (325 deg)  Potential Tropical Cyclone  Fourteen   \n",
       "1      N at 6 MPH (360 deg)  Potential Tropical Cyclone  Fourteen   \n",
       "2      N at 7 MPH (360 deg)  Potential Tropical Cyclone  Fourteen   \n",
       "3     NW at 5 MPH (320 deg)  Potential Tropical Cyclone  Fourteen   \n",
       "4    NNW at 3 MPH (340 deg)         Tropical Depression  FOURTEEN   \n",
       "5      N at 3 MPH (360 deg)         Tropical Depression  FOURTEEN   \n",
       "6      N at 6 MPH (360 deg)         Tropical Depression  FOURTEEN   \n",
       "7                Stationary              Tropical Storm   Michael   \n",
       "8     NNE at 3 MPH (20 deg)              Tropical Storm   Michael   \n",
       "9        N at 5 MPH (5 deg)              Tropical Storm   Michael   \n",
       "10       N at 5 MPH (5 deg)              Tropical Storm   Michael   \n",
       "11     N at 5 MPH (360 deg)              Tropical Storm   Michael   \n",
       "12     N at 7 MPH (360 deg)              Tropical Storm   Michael   \n",
       "13       N at 7 MPH (5 deg)              Tropical Storm   Michael   \n",
       "14      N at 7 MPH (10 deg)                   Hurricane   Michael   \n",
       "15     N at 7 MPH (360 deg)                   Hurricane   Michael   \n",
       "16     N at 9 MPH (355 deg)                   Hurricane   Michael   \n",
       "17    N at 12 MPH (355 deg)                   Hurricane   Michael   \n",
       "18    N at 12 MPH (350 deg)                   Hurricane   Michael   \n",
       "19  NNW at 12 MPH (345 deg)                   Hurricane   Michael   \n",
       "20  NNW at 12 MPH (345 deg)                   Hurricane   Michael   \n",
       "21  NNW at 12 MPH (345 deg)                   Hurricane   Michael   \n",
       "22    N at 12 MPH (350 deg)                   Hurricane   Michael   \n",
       "23    N at 12 MPH (350 deg)                   Hurricane   Michael   \n",
       "24    N at 12 MPH (350 deg)                   Hurricane   Michael   \n",
       "25    N at 12 MPH (350 deg)                   Hurricane   Michael   \n",
       "26    N at 12 MPH (355 deg)                   Hurricane   Michael   \n",
       "27    N at 12 MPH (355 deg)                   Hurricane   Michael   \n",
       "28    N at 13 MPH (360 deg)                   Hurricane   Michael   \n",
       "29     N at 13 MPH (10 deg)                   Hurricane   Michael   \n",
       "30   NNE at 14 MPH (15 deg)                   Hurricane   Michael   \n",
       "31   NNE at 14 MPH (20 deg)                   Hurricane   Michael   \n",
       "32   NNE at 16 MPH (25 deg)                   Hurricane   Michael   \n",
       "33    NE at 17 MPH (35 deg)                   Hurricane   Michael   \n",
       "34    NE at 20 MPH (45 deg)                   Hurricane   Michael   \n",
       "35    NE at 20 MPH (45 deg)              Tropical Storm   Michael   \n",
       "36    NE at 21 MPH (45 deg)              Tropical Storm   Michael   \n",
       "37    NE at 21 MPH (45 deg)              Tropical Storm   Michael   \n",
       "38    NE at 23 MPH (50 deg)              Tropical Storm   Michael   \n",
       "39    NE at 23 MPH (50 deg)              Tropical Storm   Michael   \n",
       "40    NE at 24 MPH (50 deg)              Tropical Storm   Michael   \n",
       "41    NE at 24 MPH (50 deg)              Tropical Storm   Michael   \n",
       "42    NE at 25 MPH (55 deg)              Tropical Storm   Michael   \n",
       "43    NE at 25 MPH (55 deg)              Tropical Storm   Michael   \n",
       "44   ENE at 29 MPH (65 deg)       Post-Tropical Cyclone   Michael   \n",
       "\n",
       "            Received Forecaster                      coordinates  \n",
       "0   10/06/2018 16:50      Beven    POINT (-86.59999999999999 18)  \n",
       "1   10/06/2018 19:32      Avila  POINT (-86.59999999999999 18.3)  \n",
       "2   10/06/2018 22:38      Avila  POINT (-86.59999999999999 18.8)  \n",
       "3   10/07/2018 01:38       Berg  POINT (-87.09999999999999 18.4)  \n",
       "4   10/07/2018 04:53       Berg  POINT (-86.90000000000001 18.6)  \n",
       "5   10/07/2018 07:53      Brown               POINT (-86.8 18.9)  \n",
       "6   10/07/2018 10:53      Brown  POINT (-86.90000000000001 19.2)  \n",
       "7   10/07/2018 13:44      Brown  POINT (-86.90000000000001 19.2)  \n",
       "8   10/07/2018 17:02      Brown               POINT (-85.5 19.2)  \n",
       "9   10/07/2018 19:41    Stewart  POINT (-85.40000000000001 19.9)  \n",
       "10  10/07/2018 22:59    Stewart    POINT (-85.40000000000001 20)  \n",
       "11  10/08/2018 01:44       Berg               POINT (-85.5 20.1)  \n",
       "12  10/08/2018 04:59       Berg               POINT (-85.5 20.6)  \n",
       "13  10/08/2018 07:59      Brown  POINT (-85.09999999999999 20.9)  \n",
       "14  10/08/2018 10:38      Brown  POINT (-84.90000000000001 21.2)  \n",
       "15  10/08/2018 13:41      Brown  POINT (-85.09999999999999 21.7)  \n",
       "16  10/08/2018 16:41      Brown               POINT (-85.2 22.2)  \n",
       "17  10/08/2018 19:56    Stewart               POINT (-85.2 22.7)  \n",
       "18  10/08/2018 22:56    Stewart               POINT (-85.3 23.2)  \n",
       "19  10/09/2018 01:53      Beven               POINT (-85.7 23.6)  \n",
       "20  10/09/2018 04:59      Beven  POINT (-85.90000000000001 24.1)  \n",
       "21  10/09/2018 07:50      Brown  POINT (-86.09999999999999 24.5)  \n",
       "22  10/09/2018 10:44      Brown                 POINT (-86.2 25)  \n",
       "23  10/09/2018 13:44      Brown  POINT (-86.40000000000001 25.4)  \n",
       "24  10/09/2018 16:56      Brown    POINT (-86.40000000000001 26)  \n",
       "25  10/09/2018 19:47    Stewart               POINT (-86.5 26.6)  \n",
       "26  10/09/2018 22:53    Stewart               POINT (-86.5 27.1)  \n",
       "27  10/10/2018 01:56      Beven  POINT (-86.59999999999999 27.7)  \n",
       "28  10/10/2018 04:50      Beven               POINT (-86.5 28.3)  \n",
       "29  10/10/2018 07:47      Brown                 POINT (-86.3 29)  \n",
       "30  10/10/2018 10:53      Brown                 POINT (-86 29.4)  \n",
       "31  10/10/2018 13:38      Brown                 POINT (-85.5 30)  \n",
       "32  10/10/2018 16:56      Brown  POINT (-85.09999999999999 30.9)  \n",
       "33  10/10/2018 20:00    Stewart               POINT (-84.5 31.5)  \n",
       "34  10/10/2018 22:56    Stewart               POINT (-83.8 32.1)  \n",
       "35  10/11/2018 01:47      Beven               POINT (-83.2 32.7)  \n",
       "36  10/11/2018 04:50      Beven               POINT (-82.5 33.5)  \n",
       "37  10/11/2018 07:56      Brown               POINT (-81.8 34.1)  \n",
       "38  10/11/2018 10:50      Brown               POINT (-80.8 34.7)  \n",
       "39  10/11/2018 13:41      Brown                 POINT (-80 35.7)  \n",
       "40  10/11/2018 16:53      Brown               POINT (-78.8 36.1)  \n",
       "41  10/11/2018 19:50       Berg               POINT (-77.8 36.5)  \n",
       "42  10/11/2018 22:53       Berg  POINT (-76.09999999999999 37.1)  \n",
       "43  10/12/2018 01:50      Beven  POINT (-75.09999999999999 37.3)  \n",
       "44  10/12/2018 04:50      Beven    POINT (-73.09999999999999 38)  >"
      ]
     },
     "execution_count": 38,
     "metadata": {},
     "output_type": "execute_result"
    }
   ],
   "source": [
    "geo_hurr_df.plot"
   ]
  },
  {
   "cell_type": "code",
   "execution_count": 46,
   "metadata": {},
   "outputs": [
    {
     "data": {
      "text/plain": [
       "Text(0.5, 1.0, \"Hurracaine Michael's Paths\")"
      ]
     },
     "execution_count": 46,
     "metadata": {},
     "output_type": "execute_result"
    },
    {
     "data": {
      "image/png": "[encoded data removed]",
      "text/plain": [
       "<Figure size 1080x720 with 1 Axes>"
      ]
     },
     "metadata": {
      "needs_background": "light"
     },
     "output_type": "display_data"
    }
   ],
   "source": [
    "fig, ax = plt.subplots(1, figsize=(15,10))\n",
    "\n",
    "#this is the map\n",
    "basemap = US48_df.plot(ax=ax)\n",
    "\n",
    "#plot coordinates on top of map graph\n",
    "geo_hurr_df.plot(ax=basemap, color='yellow', marker='*', markersize=50)\n",
    "\n",
    "#take off axis numbers\n",
    "ax.axis('off')\n",
    "\n",
    "#put title on map\n",
    "#ax.set_title(\"Hurracaine Landings\", fontsize=25, fontweight=3)\n",
    "ax.set_title(\"Hurracaine Michael's Paths\", fontsize=25, fontweight=3)"
   ]
  },
  {
   "cell_type": "code",
   "execution_count": null,
   "metadata": {},
   "outputs": [],
   "source": []
  }
 ],
 "metadata": {
  "kernelspec": {
   "display_name": "Python 3",
   "language": "python",
   "name": "python3"
  },
  "language_info": {
   "codemirror_mode": {
    "name": "ipython",
    "version": 3
   },
   "file_extension": ".py",
   "mimetype": "text/x-python",
   "name": "python",
   "nbconvert_exporter": "python",
   "pygments_lexer": "ipython3",
   "version": "3.6.8"
  }
 },
 "nbformat": 4,
 "nbformat_minor": 2
}
